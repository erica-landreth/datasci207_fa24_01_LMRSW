{
 "cells": [
  {
   "cell_type": "markdown",
   "metadata": {},
   "source": [
    "Feature engineering attempts in EIL_EDA were not yielding much from the parquet data. Try CNN approach to see if model can learn features that are meaningful.\n",
    "\n",
    "Working with just the dev dataset for now."
   ]
  },
  {
   "cell_type": "code",
   "execution_count": 45,
   "metadata": {},
   "outputs": [],
   "source": [
    "import pandas as pd\n",
    "import numpy as np\n",
    "import matplotlib.pyplot as plt\n",
    "import seaborn as sns\n",
    "import os\n",
    "import tensorflow as tf\n",
    "from sklearn.model_selection import train_test_split\n"
   ]
  },
  {
   "cell_type": "code",
   "execution_count": 46,
   "metadata": {},
   "outputs": [
    {
     "data": {
      "text/html": [
       "<div>\n",
       "<style scoped>\n",
       "    .dataframe tbody tr th:only-of-type {\n",
       "        vertical-align: middle;\n",
       "    }\n",
       "\n",
       "    .dataframe tbody tr th {\n",
       "        vertical-align: top;\n",
       "    }\n",
       "\n",
       "    .dataframe thead th {\n",
       "        text-align: right;\n",
       "    }\n",
       "</style>\n",
       "<table border=\"1\" class=\"dataframe\">\n",
       "  <thead>\n",
       "    <tr style=\"text-align: right;\">\n",
       "      <th></th>\n",
       "      <th>Unnamed: 0</th>\n",
       "      <th>id</th>\n",
       "    </tr>\n",
       "  </thead>\n",
       "  <tbody>\n",
       "    <tr>\n",
       "      <th>0</th>\n",
       "      <td>640</td>\n",
       "      <td>a3bd8858</td>\n",
       "    </tr>\n",
       "    <tr>\n",
       "      <th>1</th>\n",
       "      <td>885</td>\n",
       "      <td>e51193d1</td>\n",
       "    </tr>\n",
       "    <tr>\n",
       "      <th>2</th>\n",
       "      <td>550</td>\n",
       "      <td>8f2d131f</td>\n",
       "    </tr>\n",
       "    <tr>\n",
       "      <th>3</th>\n",
       "      <td>788</td>\n",
       "      <td>ca3204b0</td>\n",
       "    </tr>\n",
       "    <tr>\n",
       "      <th>4</th>\n",
       "      <td>488</td>\n",
       "      <td>7f26f78c</td>\n",
       "    </tr>\n",
       "  </tbody>\n",
       "</table>\n",
       "</div>"
      ],
      "text/plain": [
       "   Unnamed: 0        id\n",
       "0         640  a3bd8858\n",
       "1         885  e51193d1\n",
       "2         550  8f2d131f\n",
       "3         788  ca3204b0\n",
       "4         488  7f26f78c"
      ]
     },
     "execution_count": 46,
     "metadata": {},
     "output_type": "execute_result"
    }
   ],
   "source": [
    "ids = pd.read_csv('EDA/dev_ids.csv')\n",
    "ids.head()"
   ]
  },
  {
   "cell_type": "code",
   "execution_count": 47,
   "metadata": {},
   "outputs": [
    {
     "data": {
      "text/html": [
       "<div>\n",
       "<style scoped>\n",
       "    .dataframe tbody tr th:only-of-type {\n",
       "        vertical-align: middle;\n",
       "    }\n",
       "\n",
       "    .dataframe tbody tr th {\n",
       "        vertical-align: top;\n",
       "    }\n",
       "\n",
       "    .dataframe thead th {\n",
       "        text-align: right;\n",
       "    }\n",
       "</style>\n",
       "<table border=\"1\" class=\"dataframe\">\n",
       "  <thead>\n",
       "    <tr style=\"text-align: right;\">\n",
       "      <th></th>\n",
       "      <th>id</th>\n",
       "      <th>Basic_Demos-Enroll_Season</th>\n",
       "      <th>Basic_Demos-Age</th>\n",
       "      <th>Basic_Demos-Sex</th>\n",
       "      <th>CGAS-Season</th>\n",
       "      <th>CGAS-CGAS_Score</th>\n",
       "      <th>Physical-Season</th>\n",
       "      <th>Physical-BMI</th>\n",
       "      <th>Physical-Height</th>\n",
       "      <th>Physical-Weight</th>\n",
       "      <th>...</th>\n",
       "      <th>PCIAT-PCIAT_18</th>\n",
       "      <th>PCIAT-PCIAT_19</th>\n",
       "      <th>PCIAT-PCIAT_20</th>\n",
       "      <th>PCIAT-PCIAT_Total</th>\n",
       "      <th>SDS-Season</th>\n",
       "      <th>SDS-SDS_Total_Raw</th>\n",
       "      <th>SDS-SDS_Total_T</th>\n",
       "      <th>PreInt_EduHx-Season</th>\n",
       "      <th>PreInt_EduHx-computerinternet_hoursday</th>\n",
       "      <th>sii</th>\n",
       "    </tr>\n",
       "  </thead>\n",
       "  <tbody>\n",
       "    <tr>\n",
       "      <th>0</th>\n",
       "      <td>00008ff9</td>\n",
       "      <td>Fall</td>\n",
       "      <td>5</td>\n",
       "      <td>0</td>\n",
       "      <td>Winter</td>\n",
       "      <td>51.0</td>\n",
       "      <td>Fall</td>\n",
       "      <td>16.877316</td>\n",
       "      <td>46.0</td>\n",
       "      <td>50.8</td>\n",
       "      <td>...</td>\n",
       "      <td>4.0</td>\n",
       "      <td>2.0</td>\n",
       "      <td>4.0</td>\n",
       "      <td>55.0</td>\n",
       "      <td>NaN</td>\n",
       "      <td>NaN</td>\n",
       "      <td>NaN</td>\n",
       "      <td>Fall</td>\n",
       "      <td>3.0</td>\n",
       "      <td>2.0</td>\n",
       "    </tr>\n",
       "    <tr>\n",
       "      <th>1</th>\n",
       "      <td>000fd460</td>\n",
       "      <td>Summer</td>\n",
       "      <td>9</td>\n",
       "      <td>0</td>\n",
       "      <td>NaN</td>\n",
       "      <td>NaN</td>\n",
       "      <td>Fall</td>\n",
       "      <td>14.035590</td>\n",
       "      <td>48.0</td>\n",
       "      <td>46.0</td>\n",
       "      <td>...</td>\n",
       "      <td>0.0</td>\n",
       "      <td>0.0</td>\n",
       "      <td>0.0</td>\n",
       "      <td>0.0</td>\n",
       "      <td>Fall</td>\n",
       "      <td>46.0</td>\n",
       "      <td>64.0</td>\n",
       "      <td>Summer</td>\n",
       "      <td>0.0</td>\n",
       "      <td>0.0</td>\n",
       "    </tr>\n",
       "    <tr>\n",
       "      <th>2</th>\n",
       "      <td>00105258</td>\n",
       "      <td>Summer</td>\n",
       "      <td>10</td>\n",
       "      <td>1</td>\n",
       "      <td>Fall</td>\n",
       "      <td>71.0</td>\n",
       "      <td>Fall</td>\n",
       "      <td>16.648696</td>\n",
       "      <td>56.5</td>\n",
       "      <td>75.6</td>\n",
       "      <td>...</td>\n",
       "      <td>2.0</td>\n",
       "      <td>1.0</td>\n",
       "      <td>1.0</td>\n",
       "      <td>28.0</td>\n",
       "      <td>Fall</td>\n",
       "      <td>38.0</td>\n",
       "      <td>54.0</td>\n",
       "      <td>Summer</td>\n",
       "      <td>2.0</td>\n",
       "      <td>0.0</td>\n",
       "    </tr>\n",
       "    <tr>\n",
       "      <th>3</th>\n",
       "      <td>00115b9f</td>\n",
       "      <td>Winter</td>\n",
       "      <td>9</td>\n",
       "      <td>0</td>\n",
       "      <td>Fall</td>\n",
       "      <td>71.0</td>\n",
       "      <td>Summer</td>\n",
       "      <td>18.292347</td>\n",
       "      <td>56.0</td>\n",
       "      <td>81.6</td>\n",
       "      <td>...</td>\n",
       "      <td>3.0</td>\n",
       "      <td>4.0</td>\n",
       "      <td>1.0</td>\n",
       "      <td>44.0</td>\n",
       "      <td>Summer</td>\n",
       "      <td>31.0</td>\n",
       "      <td>45.0</td>\n",
       "      <td>Winter</td>\n",
       "      <td>0.0</td>\n",
       "      <td>1.0</td>\n",
       "    </tr>\n",
       "    <tr>\n",
       "      <th>4</th>\n",
       "      <td>0016bb22</td>\n",
       "      <td>Spring</td>\n",
       "      <td>18</td>\n",
       "      <td>1</td>\n",
       "      <td>Summer</td>\n",
       "      <td>NaN</td>\n",
       "      <td>NaN</td>\n",
       "      <td>NaN</td>\n",
       "      <td>NaN</td>\n",
       "      <td>NaN</td>\n",
       "      <td>...</td>\n",
       "      <td>NaN</td>\n",
       "      <td>NaN</td>\n",
       "      <td>NaN</td>\n",
       "      <td>NaN</td>\n",
       "      <td>NaN</td>\n",
       "      <td>NaN</td>\n",
       "      <td>NaN</td>\n",
       "      <td>NaN</td>\n",
       "      <td>NaN</td>\n",
       "      <td>NaN</td>\n",
       "    </tr>\n",
       "  </tbody>\n",
       "</table>\n",
       "<p>5 rows × 82 columns</p>\n",
       "</div>"
      ],
      "text/plain": [
       "         id Basic_Demos-Enroll_Season  Basic_Demos-Age  Basic_Demos-Sex  \\\n",
       "0  00008ff9                      Fall                5                0   \n",
       "1  000fd460                    Summer                9                0   \n",
       "2  00105258                    Summer               10                1   \n",
       "3  00115b9f                    Winter                9                0   \n",
       "4  0016bb22                    Spring               18                1   \n",
       "\n",
       "  CGAS-Season  CGAS-CGAS_Score Physical-Season  Physical-BMI  Physical-Height  \\\n",
       "0      Winter             51.0            Fall     16.877316             46.0   \n",
       "1         NaN              NaN            Fall     14.035590             48.0   \n",
       "2        Fall             71.0            Fall     16.648696             56.5   \n",
       "3        Fall             71.0          Summer     18.292347             56.0   \n",
       "4      Summer              NaN             NaN           NaN              NaN   \n",
       "\n",
       "   Physical-Weight  ...  PCIAT-PCIAT_18  PCIAT-PCIAT_19  PCIAT-PCIAT_20  \\\n",
       "0             50.8  ...             4.0             2.0             4.0   \n",
       "1             46.0  ...             0.0             0.0             0.0   \n",
       "2             75.6  ...             2.0             1.0             1.0   \n",
       "3             81.6  ...             3.0             4.0             1.0   \n",
       "4              NaN  ...             NaN             NaN             NaN   \n",
       "\n",
       "   PCIAT-PCIAT_Total SDS-Season  SDS-SDS_Total_Raw  SDS-SDS_Total_T  \\\n",
       "0               55.0        NaN                NaN              NaN   \n",
       "1                0.0       Fall               46.0             64.0   \n",
       "2               28.0       Fall               38.0             54.0   \n",
       "3               44.0     Summer               31.0             45.0   \n",
       "4                NaN        NaN                NaN              NaN   \n",
       "\n",
       "   PreInt_EduHx-Season PreInt_EduHx-computerinternet_hoursday  sii  \n",
       "0                 Fall                                    3.0  2.0  \n",
       "1               Summer                                    0.0  0.0  \n",
       "2               Summer                                    2.0  0.0  \n",
       "3               Winter                                    0.0  1.0  \n",
       "4                  NaN                                    NaN  NaN  \n",
       "\n",
       "[5 rows x 82 columns]"
      ]
     },
     "execution_count": 47,
     "metadata": {},
     "output_type": "execute_result"
    }
   ],
   "source": [
    "data = pd.read_csv('data/train.csv')\n",
    "data.head()"
   ]
  },
  {
   "cell_type": "code",
   "execution_count": 48,
   "metadata": {},
   "outputs": [],
   "source": [
    "parquet_data = {}\n",
    "lengths = []\n",
    "sii_vals = []\n",
    "for id in ids.id.values:\n",
    "    fn = f'data/series_train.parquet/id={id}/part-0.parquet'\n",
    "    p = pd.read_parquet(fn)\n",
    "    sii = data.sii[data.id==id].values[0]\n",
    "    score = data['PCIAT-PCIAT_Total'][data.id==id].values[0]\n",
    "    parquet_data[id] = {'sii':sii,'data':p,'score':score}\n",
    "    sii_vals.append(sii)\n"
   ]
  },
  {
   "cell_type": "code",
   "execution_count": 50,
   "metadata": {},
   "outputs": [],
   "source": [
    "L = 25000\n",
    "rep_factor = {0.0:1, 1.0:2, 2.0:4, 3.0:60}\n",
    "vars = ['X','Y','Z','light','anglez']\n",
    "samples = []\n",
    "labels = []\n",
    "ids = []\n",
    "for id in parquet_data.keys():\n",
    "    tmp = parquet_data[id]\n",
    "    label = tmp['score']\n",
    "    sii = tmp['sii']\n",
    "    data = tmp['data']\n",
    "    for r in range(rep_factor[sii]):\n",
    "        N = np.floor(data.shape[0]/L)\n",
    "        for i in np.arange(N):\n",
    "            T = np.array(data.loc[int(i*L):int((i+1)*L)-1,vars])\n",
    "            if T.shape[0] < L:\n",
    "                continue\n",
    "            samples.append(T)\n",
    "            labels.append(label)\n",
    "            ids.append(id)\n",
    "        data = data.loc[1000:,:].reindex()\n"
   ]
  },
  {
   "cell_type": "code",
   "execution_count": 51,
   "metadata": {},
   "outputs": [
    {
     "data": {
      "text/plain": [
       "(7101, 25000, 5)"
      ]
     },
     "execution_count": 51,
     "metadata": {},
     "output_type": "execute_result"
    }
   ],
   "source": [
    "X = np.stack(samples,axis=0)\n",
    "X.shape"
   ]
  },
  {
   "cell_type": "code",
   "execution_count": 52,
   "metadata": {},
   "outputs": [
    {
     "data": {
      "text/plain": [
       "(7101,)"
      ]
     },
     "execution_count": 52,
     "metadata": {},
     "output_type": "execute_result"
    }
   ],
   "source": [
    "# Y = np.array(tf.one_hot(np.array(labels).astype(int),depth=4))\n",
    "Y = np.array(labels)\n",
    "Y.shape"
   ]
  },
  {
   "cell_type": "code",
   "execution_count": 53,
   "metadata": {},
   "outputs": [
    {
     "name": "stdout",
     "output_type": "stream",
     "text": [
      "X train shape: (6035, 25000, 5)\n",
      "X test shape: (1066, 25000, 5)\n",
      "Y train shape: (6035,)\n",
      "Y test shape: (1066,)\n"
     ]
    }
   ],
   "source": [
    "X_train,X_test,Y_train,Y_test = train_test_split(X, Y, train_size=0.85, random_state=1234)\n",
    "print('X train shape:',X_train.shape)\n",
    "print('X test shape:',X_test.shape)\n",
    "print('Y train shape:',Y_train.shape)\n",
    "print('Y test shape:',Y_test.shape)\n",
    "\n",
    "mu = np.mean(X_train)\n",
    "sigma = np.std(X_test)\n",
    "\n",
    "X_train = (X_train-mu)/sigma\n",
    "X_test = (X_test-mu)/sigma"
   ]
  },
  {
   "cell_type": "code",
   "execution_count": 62,
   "metadata": {},
   "outputs": [],
   "source": [
    "tf.random.set_seed(1234)\n",
    "np.random.seed(1234)\n",
    "\n",
    "num_conv = 2\n",
    "\n",
    "# initialize model\n",
    "model_tf = tf.keras.Sequential()\n",
    "model_tf.add(tf.keras.layers.InputLayer(input_shape=(L, X.shape[2])))\n",
    "for i in range(num_conv):\n",
    "    model_tf.add(tf.keras.layers.Conv1D(\n",
    "        filters=1,\n",
    "        kernel_size=(3,),\n",
    "        data_format='channels_last',\n",
    "        name=f'conv_{i}',\n",
    "        activation='relu',\n",
    "    ))\n",
    "    model_tf.add(tf.keras.layers.MaxPool1D(\n",
    "        pool_size=(3,),\n",
    "    ))\n",
    "    model_tf.add(tf.keras.layers.Dropout(rate=0.3))\n",
    "model_tf.add(tf.keras.layers.Flatten())\n",
    "# model_tf.add(tf.keras.layers.Dense(units=4, activation='softmax'))\n",
    "model_tf.add(tf.keras.layers.Dense(\n",
    "    units=1,\n",
    "    use_bias=True,\n",
    "    kernel_initializer=tf.ones_initializer,\n",
    "    bias_initializer=tf.ones_initializer\n",
    "))"
   ]
  },
  {
   "cell_type": "code",
   "execution_count": 63,
   "metadata": {},
   "outputs": [
    {
     "name": "stdout",
     "output_type": "stream",
     "text": [
      "Model: \"sequential_4\"\n",
      "_________________________________________________________________\n",
      " Layer (type)                Output Shape              Param #   \n",
      "=================================================================\n",
      " conv_0 (Conv1D)             (None, 24998, 1)          16        \n",
      "                                                                 \n",
      " max_pooling1d_24 (MaxPoolin  (None, 8332, 1)          0         \n",
      " g1D)                                                            \n",
      "                                                                 \n",
      " dropout_24 (Dropout)        (None, 8332, 1)           0         \n",
      "                                                                 \n",
      " conv_1 (Conv1D)             (None, 8330, 1)           4         \n",
      "                                                                 \n",
      " max_pooling1d_25 (MaxPoolin  (None, 2776, 1)          0         \n",
      " g1D)                                                            \n",
      "                                                                 \n",
      " dropout_25 (Dropout)        (None, 2776, 1)           0         \n",
      "                                                                 \n"
     ]
    },
    {
     "name": "stdout",
     "output_type": "stream",
     "text": [
      " flatten_4 (Flatten)         (None, 2776)              0         \n",
      "                                                                 \n",
      " dense_4 (Dense)             (None, 1)                 2777      \n",
      "                                                                 \n",
      "=================================================================\n",
      "Total params: 2,797\n",
      "Trainable params: 2,797\n",
      "Non-trainable params: 0\n",
      "_________________________________________________________________\n"
     ]
    }
   ],
   "source": [
    "# model_tf.build(input_shape=(None, 5001, 3))\n",
    "model_tf.build()\n",
    "model_tf.compile(optimizer=tf.keras.optimizers.SGD(learning_rate=0.001),\n",
    "              loss=tf.keras.losses.MeanSquaredError(),\n",
    "              metrics=['mean_squared_error']) \n",
    "\n",
    "\n",
    "            #   loss=tf.keras.losses.CategoricalCrossentropy(),\n",
    "\n",
    "\n",
    "# print model_tf summary\n",
    "model_tf.summary()"
   ]
  },
  {
   "cell_type": "code",
   "execution_count": 64,
   "metadata": {},
   "outputs": [],
   "source": [
    "early_stopping = tf.keras.callbacks.EarlyStopping(\n",
    "monitor='loss', \n",
    "verbose=1,\n",
    "patience=5,\n",
    "mode='max',\n",
    "restore_best_weights=True)"
   ]
  },
  {
   "cell_type": "code",
   "execution_count": 65,
   "metadata": {},
   "outputs": [
    {
     "name": "stdout",
     "output_type": "stream",
     "text": [
      "Epoch 1/20\n",
      "161/161 [==============================] - 9s 53ms/step - loss: 3743.5862 - mean_squared_error: 3743.5862 - val_loss: 1842.5035 - val_mean_squared_error: 1842.5035\n",
      "Epoch 2/20\n",
      "161/161 [==============================] - 5s 29ms/step - loss: 1531.0874 - mean_squared_error: 1531.0874 - val_loss: 1308.1327 - val_mean_squared_error: 1308.1327\n",
      "Epoch 3/20\n",
      "161/161 [==============================] - 5s 32ms/step - loss: 1145.8855 - mean_squared_error: 1145.8855 - val_loss: 1026.3593 - val_mean_squared_error: 1026.3593\n",
      "Epoch 4/20\n",
      "161/161 [==============================] - 4s 27ms/step - loss: 944.3917 - mean_squared_error: 944.3917 - val_loss: 876.9852 - val_mean_squared_error: 876.9852\n",
      "Epoch 5/20\n",
      "161/161 [==============================] - 4s 27ms/step - loss: 839.2528 - mean_squared_error: 839.2528 - val_loss: 797.1129 - val_mean_squared_error: 797.1129\n",
      "Epoch 6/20\n",
      "161/161 [==============================] - 5s 33ms/step - loss: 783.6581 - mean_squared_error: 783.6581 - val_loss: 754.0261 - val_mean_squared_error: 754.0261\n",
      "Epoch 7/20\n",
      "161/161 [==============================] - 5s 31ms/step - loss: 754.3926 - mean_squared_error: 754.3926 - val_loss: 730.4524 - val_mean_squared_error: 730.4524\n",
      "Epoch 8/20\n",
      "161/161 [==============================] - 5s 33ms/step - loss: 738.9689 - mean_squared_error: 738.9689 - val_loss: 717.7287 - val_mean_squared_error: 717.7287\n",
      "Epoch 9/20\n",
      "161/161 [==============================] - 5s 29ms/step - loss: 730.9650 - mean_squared_error: 730.9650 - val_loss: 710.4909 - val_mean_squared_error: 710.4909\n",
      "Epoch 10/20\n",
      "161/161 [==============================] - 5s 28ms/step - loss: 726.6161 - mean_squared_error: 726.6161 - val_loss: 706.4008 - val_mean_squared_error: 706.4008\n",
      "Epoch 11/20\n",
      "161/161 [==============================] - 5s 29ms/step - loss: 724.3425 - mean_squared_error: 724.3425 - val_loss: 704.0917 - val_mean_squared_error: 704.0917\n",
      "Epoch 12/20\n",
      "161/161 [==============================] - 5s 30ms/step - loss: 723.1749 - mean_squared_error: 723.1749 - val_loss: 702.6414 - val_mean_squared_error: 702.6414\n",
      "Epoch 13/20\n",
      "161/161 [==============================] - 5s 31ms/step - loss: 722.5284 - mean_squared_error: 722.5284 - val_loss: 701.9034 - val_mean_squared_error: 701.9034\n",
      "Epoch 14/20\n",
      "161/161 [==============================] - 5s 32ms/step - loss: 722.2363 - mean_squared_error: 722.2363 - val_loss: 701.4050 - val_mean_squared_error: 701.4050\n",
      "Epoch 15/20\n",
      "161/161 [==============================] - 5s 32ms/step - loss: 722.0573 - mean_squared_error: 722.0573 - val_loss: 701.0950 - val_mean_squared_error: 701.0950\n",
      "Epoch 16/20\n",
      "161/161 [==============================] - 5s 34ms/step - loss: 721.9769 - mean_squared_error: 721.9769 - val_loss: 700.9359 - val_mean_squared_error: 700.9359\n",
      "Epoch 17/20\n",
      "161/161 [==============================] - 5s 33ms/step - loss: 721.9432 - mean_squared_error: 721.9432 - val_loss: 700.7674 - val_mean_squared_error: 700.7674\n",
      "Epoch 18/20\n",
      "161/161 [==============================] - 5s 34ms/step - loss: 721.9062 - mean_squared_error: 721.9062 - val_loss: 700.6550 - val_mean_squared_error: 700.6550\n",
      "Epoch 19/20\n",
      "161/161 [==============================] - 5s 32ms/step - loss: 721.9048 - mean_squared_error: 721.9048 - val_loss: 700.5901 - val_mean_squared_error: 700.5901\n",
      "Epoch 20/20\n",
      "161/161 [==============================] - 5s 30ms/step - loss: 721.8879 - mean_squared_error: 721.8879 - val_loss: 700.5078 - val_mean_squared_error: 700.5078\n"
     ]
    },
    {
     "data": {
      "text/plain": [
       "<keras.callbacks.History at 0x1782525f0>"
      ]
     },
     "execution_count": 65,
     "metadata": {},
     "output_type": "execute_result"
    }
   ],
   "source": [
    "model_tf.fit(\n",
    "    x=X_train,\n",
    "    y=Y_train,\n",
    "    validation_split=0.15,\n",
    "    epochs=20,\n",
    "    # callbacks=[early_stopping]\n",
    ")"
   ]
  },
  {
   "cell_type": "code",
   "execution_count": 66,
   "metadata": {},
   "outputs": [
    {
     "data": {
      "text/plain": [
       "<matplotlib.legend.Legend at 0x179810430>"
      ]
     },
     "execution_count": 66,
     "metadata": {},
     "output_type": "execute_result"
    },
    {
     "data": {
      "image/png": "[encoded data removed]",
      "text/plain": [
       "<Figure size 640x480 with 1 Axes>"
      ]
     },
     "metadata": {},
     "output_type": "display_data"
    }
   ],
   "source": [
    "# plot loss curves\n",
    "fig, ax = plt.subplots(1,1)\n",
    "ax.plot(range(1,len(model_tf.history.history['loss'])+1),model_tf.history.history['loss'],label='Training Loss')\n",
    "ax.plot(range(1,len(model_tf.history.history['val_loss'])+1),model_tf.history.history['val_loss'],label='Validation Loss')\n",
    "ax.set_xlabel('Epoch number')\n",
    "ax.set_ylabel('Loss')\n",
    "ax.set_title('Loss over training epochs')\n",
    "ax.legend()\n"
   ]
  },
  {
   "cell_type": "code",
   "execution_count": 67,
   "metadata": {},
   "outputs": [
    {
     "data": {
      "text/plain": [
       "(array([ 722.,  549.,  586.,  842.,  779.,  689.,  886.,  373.,  293.,\n",
       "        1382.]),\n",
       " array([ 0. ,  8.8, 17.6, 26.4, 35.2, 44. , 52.8, 61.6, 70.4, 79.2, 88. ]),\n",
       " <BarContainer object of 10 artists>)"
      ]
     },
     "execution_count": 67,
     "metadata": {},
     "output_type": "execute_result"
    },
    {
     "data": {
      "image/png": "[encoded data removed]",
      "text/plain": [
       "<Figure size 640x480 with 1 Axes>"
      ]
     },
     "metadata": {},
     "output_type": "display_data"
    }
   ],
   "source": [
    "plt.hist(labels)"
   ]
  },
  {
   "cell_type": "code",
   "execution_count": 68,
   "metadata": {},
   "outputs": [
    {
     "name": "stdout",
     "output_type": "stream",
     "text": [
      "34/34 [==============================] - 1s 18ms/step\n"
     ]
    }
   ],
   "source": [
    "Y_pred = model_tf.predict(X_test)"
   ]
  },
  {
   "cell_type": "code",
   "execution_count": 69,
   "metadata": {},
   "outputs": [
    {
     "data": {
      "image/png": "[encoded data removed]",
      "text/plain": [
       "<Figure size 640x480 with 1 Axes>"
      ]
     },
     "metadata": {},
     "output_type": "display_data"
    }
   ],
   "source": [
    "fig,ax = plt.subplots(1,1)\n",
    "ax.scatter(Y_test,Y_pred)\n",
    "plt.show()"
   ]
  },
  {
   "cell_type": "code",
   "execution_count": null,
   "metadata": {},
   "outputs": [],
   "source": []
  }
 ],
 "metadata": {
  "kernelspec": {
   "display_name": "datasci207",
   "language": "python",
   "name": "python3"
  },
  "language_info": {
   "codemirror_mode": {
    "name": "ipython",
    "version": 3
   },
   "file_extension": ".py",
   "mimetype": "text/x-python",
   "name": "python",
   "nbconvert_exporter": "python",
   "pygments_lexer": "ipython3",
   "version": "3.10.13"
  }
 },
 "nbformat": 4,
 "nbformat_minor": 2
}
